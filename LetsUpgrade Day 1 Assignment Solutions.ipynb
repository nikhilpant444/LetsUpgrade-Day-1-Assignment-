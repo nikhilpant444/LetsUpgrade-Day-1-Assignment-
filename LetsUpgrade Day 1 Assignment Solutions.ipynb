{
 "cells": [
  {
   "cell_type": "code",
   "execution_count": null,
   "metadata": {},
   "outputs": [],
   "source": [
    "# Solution 1\n",
    "\n",
    "RAINBOW"
   ]
  },
  {
   "cell_type": "code",
   "execution_count": 1,
   "metadata": {},
   "outputs": [
    {
     "name": "stdout",
     "output_type": "stream",
     "text": [
      "LETS UPGRADE\n"
     ]
    }
   ],
   "source": [
    "# Solution 2\n",
    "\n",
    "print(\"LETS UPGRADE\")"
   ]
  },
  {
   "cell_type": "code",
   "execution_count": 8,
   "metadata": {},
   "outputs": [
    {
     "name": "stdout",
     "output_type": "stream",
     "text": [
      "20\n",
      "30\n",
      "Profit\n"
     ]
    }
   ],
   "source": [
    "# Solution 3\n",
    "\n",
    "#Case 1- when cost price is less than selling price\n",
    "\n",
    "cost_price = int(input())\n",
    "selling_price = int(input())\n",
    "if selling_price > cost_price:\n",
    "    print(\"Profit\")\n",
    "elif selling_price < cost_price:\n",
    "    print(\"Loss\")\n",
    "else:\n",
    "    print(\"Neither\")"
   ]
  },
  {
   "cell_type": "code",
   "execution_count": 9,
   "metadata": {},
   "outputs": [
    {
     "name": "stdout",
     "output_type": "stream",
     "text": [
      "40\n",
      "25\n",
      "Loss\n"
     ]
    }
   ],
   "source": [
    "# Solution 3\n",
    "\n",
    "#Case 2- when cost price is more than selling price\n",
    "\n",
    "cost_price = int(input())\n",
    "selling_price = int(input())\n",
    "if selling_price > cost_price:\n",
    "    print(\"Profit\")\n",
    "elif selling_price < cost_price:\n",
    "    print(\"Loss\")\n",
    "else:\n",
    "    print(\"Neither\")"
   ]
  },
  {
   "cell_type": "code",
   "execution_count": 12,
   "metadata": {},
   "outputs": [
    {
     "name": "stdout",
     "output_type": "stream",
     "text": [
      "50\n",
      "50\n",
      "Neither\n"
     ]
    }
   ],
   "source": [
    "# Solution 3\n",
    "\n",
    "#Case 2- when cost price is equal to selling price\n",
    "\n",
    "cost_price = int(input())\n",
    "selling_price = int(input())\n",
    "if selling_price > cost_price:\n",
    "    print(\"Profit\")\n",
    "elif selling_price < cost_price:\n",
    "    print(\"Loss\")\n",
    "else:\n",
    "    print(\"Neither\")"
   ]
  },
  {
   "cell_type": "code",
   "execution_count": 17,
   "metadata": {},
   "outputs": [
    {
     "name": "stdout",
     "output_type": "stream",
     "text": [
      "20\n",
      "1600\n"
     ]
    }
   ],
   "source": [
    "# Solution 4\n",
    "\n",
    "# Example- when input is 20 euros and output is 1600\n",
    "\n",
    "Euros_1 = 80\n",
    "Euros = int(input())\n",
    "print(Euros_1*Euros)"
   ]
  }
 ],
 "metadata": {
  "kernelspec": {
   "display_name": "Python 3",
   "language": "python",
   "name": "python3"
  },
  "language_info": {
   "codemirror_mode": {
    "name": "ipython",
    "version": 3
   },
   "file_extension": ".py",
   "mimetype": "text/x-python",
   "name": "python",
   "nbconvert_exporter": "python",
   "pygments_lexer": "ipython3",
   "version": "3.8.3"
  }
 },
 "nbformat": 4,
 "nbformat_minor": 4
}
