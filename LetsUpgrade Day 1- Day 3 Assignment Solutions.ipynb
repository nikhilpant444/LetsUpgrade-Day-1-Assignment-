{
 "cells": [
  {
   "cell_type": "markdown",
   "metadata": {},
   "source": [
    "# Day 1 solutions"
   ]
  },
  {
   "cell_type": "code",
   "execution_count": null,
   "metadata": {},
   "outputs": [],
   "source": [
    "# Solution 1\n",
    "\n",
    "RAINBOW"
   ]
  },
  {
   "cell_type": "code",
   "execution_count": 1,
   "metadata": {},
   "outputs": [
    {
     "name": "stdout",
     "output_type": "stream",
     "text": [
      "LETS UPGRADE\n"
     ]
    }
   ],
   "source": [
    "# Solution 2\n",
    "\n",
    "print(\"LETS UPGRADE\")"
   ]
  },
  {
   "cell_type": "code",
   "execution_count": 8,
   "metadata": {},
   "outputs": [
    {
     "name": "stdout",
     "output_type": "stream",
     "text": [
      "20\n",
      "30\n",
      "Profit\n"
     ]
    }
   ],
   "source": [
    "# Solution 3\n",
    "\n",
    "#Case 1- when cost price is less than selling price\n",
    "\n",
    "cost_price = int(input())\n",
    "selling_price = int(input())\n",
    "if selling_price > cost_price:\n",
    "    print(\"Profit\")\n",
    "elif selling_price < cost_price:\n",
    "    print(\"Loss\")\n",
    "else:\n",
    "    print(\"Neither\")"
   ]
  },
  {
   "cell_type": "code",
   "execution_count": 9,
   "metadata": {},
   "outputs": [
    {
     "name": "stdout",
     "output_type": "stream",
     "text": [
      "40\n",
      "25\n",
      "Loss\n"
     ]
    }
   ],
   "source": [
    "# Solution 3\n",
    "\n",
    "#Case 2- when cost price is more than selling price\n",
    "\n",
    "cost_price = int(input())\n",
    "selling_price = int(input())\n",
    "if selling_price > cost_price:\n",
    "    print(\"Profit\")\n",
    "elif selling_price < cost_price:\n",
    "    print(\"Loss\")\n",
    "else:\n",
    "    print(\"Neither\")"
   ]
  },
  {
   "cell_type": "code",
   "execution_count": 12,
   "metadata": {},
   "outputs": [
    {
     "name": "stdout",
     "output_type": "stream",
     "text": [
      "50\n",
      "50\n",
      "Neither\n"
     ]
    }
   ],
   "source": [
    "# Solution 3\n",
    "\n",
    "#Case 2- when cost price is equal to selling price\n",
    "\n",
    "cost_price = int(input())\n",
    "selling_price = int(input())\n",
    "if selling_price > cost_price:\n",
    "    print(\"Profit\")\n",
    "elif selling_price < cost_price:\n",
    "    print(\"Loss\")\n",
    "else:\n",
    "    print(\"Neither\")"
   ]
  },
  {
   "cell_type": "code",
   "execution_count": 17,
   "metadata": {},
   "outputs": [
    {
     "name": "stdout",
     "output_type": "stream",
     "text": [
      "20\n",
      "1600\n"
     ]
    }
   ],
   "source": [
    "# Solution 4\n",
    "\n",
    "# Example- when input is 20 euros and output is 1600\n",
    "\n",
    "Euros_1 = 80\n",
    "Euros = int(input())\n",
    "print(Euros_1*Euros)"
   ]
  },
  {
   "cell_type": "markdown",
   "metadata": {},
   "source": [
    "# Day 2 solutions"
   ]
  },
  {
   "cell_type": "code",
   "execution_count": 31,
   "metadata": {},
   "outputs": [
    {
     "name": "stdout",
     "output_type": "stream",
     "text": [
      "[0, 2, 4, 6, 8]\n"
     ]
    }
   ],
   "source": [
    "# Solution 1\n",
    "\n",
    "l = []\n",
    "for i in range(0,10,2):\n",
    "    l.append(i)\n",
    "print(l)"
   ]
  },
  {
   "cell_type": "code",
   "execution_count": 35,
   "metadata": {},
   "outputs": [
    {
     "name": "stdout",
     "output_type": "stream",
     "text": [
      "[100, 3, 47, 58, 245]\n"
     ]
    }
   ],
   "source": [
    "# Solution 2\n",
    "\n",
    "# Using a list comprehension, create a new list called \"new\" out of the list \"num\", which contains only the positive numbers from the list, as integers\n",
    "\n",
    "num = [100, -250, 3.5, -19.7, -33.2, 47, 58, -25, -600, 245]\n",
    "new = [int(x) for x in num if x > 0]\n",
    "print(new)"
   ]
  },
  {
   "cell_type": "code",
   "execution_count": 36,
   "metadata": {},
   "outputs": [
    {
     "name": "stdout",
     "output_type": "stream",
     "text": [
      "Enter the number 5\n",
      "{1: 1, 2: 4, 3: 9, 4: 16, 5: 25}\n"
     ]
    }
   ],
   "source": [
    "# Solution 3\n",
    "\n",
    "n = int(input(\"Enter the number \"))\n",
    "d = {}\n",
    "for x in range(1, 1+n):\n",
    "    d[x] = x*x\n",
    "print(d)"
   ]
  },
  {
   "cell_type": "code",
   "execution_count": null,
   "metadata": {},
   "outputs": [],
   "source": [
    "#Solution 4\n",
    "\n"
   ]
  },
  {
   "cell_type": "markdown",
   "metadata": {},
   "source": [
    "# Day 3 solutions"
   ]
  },
  {
   "cell_type": "code",
   "execution_count": 42,
   "metadata": {},
   "outputs": [
    {
     "name": "stdout",
     "output_type": "stream",
     "text": [
      "[ 2  5  8 11 14 17 20 23 26 29 32 35 38 41 44 47]\n"
     ]
    }
   ],
   "source": [
    "# Solution 1\n",
    "\n",
    "# Creating an array from 2 to 50 with step size of 3.\n",
    "\n",
    "import numpy as np\n",
    "num_1 = np.arange(2,50,3)\n",
    "print(num_1)"
   ]
  },
  {
   "cell_type": "code",
   "execution_count": 18,
   "metadata": {},
   "outputs": [
    {
     "name": "stdout",
     "output_type": "stream",
     "text": [
      "[ 10  15  22  13   4  25  66  72  18 100]\n",
      "[  4  10  13  15  18  22  25  66  72 100]\n"
     ]
    }
   ],
   "source": [
    "# Solution 2\n",
    "\n",
    "# Converting 2 list to 1D array and Concatenating and sorting them.\n",
    "\n",
    "import numpy as np\n",
    "List_1 = [10,15,22,13,4]\n",
    "List_2 = [25,66,72,18,100]\n",
    "Array_1 = np.array(List_1)\n",
    "Array_2 = np.array(List_2)\n",
    "con = np.concatenate((Array_1, Array_2))\n",
    "print(con)\n",
    "print(np.sort(con))"
   ]
  },
  {
   "cell_type": "code",
   "execution_count": 23,
   "metadata": {},
   "outputs": [
    {
     "name": "stdout",
     "output_type": "stream",
     "text": [
      "[0 1 2 3 4]\n",
      "1\n",
      "5\n"
     ]
    }
   ],
   "source": [
    "# Solution 3\n",
    "\n",
    "# Finding dimension and size of ndarray.\n",
    "\n",
    "import numpy as np\n",
    "array = np.arange(5)\n",
    "print(array)\n",
    "print(array.ndim)\n",
    "print(array.size)"
   ]
  },
  {
   "cell_type": "code",
   "execution_count": 27,
   "metadata": {},
   "outputs": [
    {
     "name": "stdout",
     "output_type": "stream",
     "text": [
      "[[ 1  2  3]\n",
      " [ 4  5  6]\n",
      " [ 7  8  9]\n",
      " [10 11 12]]\n"
     ]
    }
   ],
   "source": [
    "# Solution 4\n",
    "\n",
    "# Converting 1D array into a 2D array.\n",
    "\n",
    "import numpy as np\n",
    "array_1D = np.array([1,2,3,4,5,6,7,8,9,10,11,12])\n",
    "array_2D = array_1D.reshape(4,3)\n",
    "print(array_2D)"
   ]
  },
  {
   "cell_type": "code",
   "execution_count": 34,
   "metadata": {},
   "outputs": [
    {
     "name": "stdout",
     "output_type": "stream",
     "text": [
      "[[1 2]\n",
      " [3 4]\n",
      " [5 6]\n",
      " [7 8]]\n"
     ]
    }
   ],
   "source": [
    "# Solution 5\n",
    "\n",
    "# Stacking 2 square numpy arrays vertically and horizontally.\n",
    "#Case 1- Vertically\n",
    "\n",
    "a = np.array([1,2,3,4])\n",
    "b = np.array([5,6,7,8])\n",
    "a_1 = a.reshape(2,2)\n",
    "b_1 = b.reshape(2,2)\n",
    "vertical = np.vstack((a_1,b_1))\n",
    "print(vertical)"
   ]
  },
  {
   "cell_type": "code",
   "execution_count": 35,
   "metadata": {},
   "outputs": [
    {
     "name": "stdout",
     "output_type": "stream",
     "text": [
      "[[1 2 5 6]\n",
      " [3 4 7 8]]\n"
     ]
    }
   ],
   "source": [
    "# Solution 5\n",
    "\n",
    "# Stacking 2 square numpy arrays vertically and horizontally.\n",
    "#Case 2- Horizontally\n",
    "\n",
    "a = np.array([1,2,3,4])\n",
    "b = np.array([5,6,7,8])\n",
    "a_1 = a.reshape(2,2)\n",
    "b_1 = b.reshape(2,2)\n",
    "horizontal = np.hstack((a_1,b_1))\n",
    "print(horizontal)"
   ]
  },
  {
   "cell_type": "code",
   "execution_count": 44,
   "metadata": {},
   "outputs": [
    {
     "name": "stdout",
     "output_type": "stream",
     "text": [
      "[[1 2]\n",
      " [2 3]\n",
      " [3 2]\n",
      " [5 2]\n",
      " [6 1]\n",
      " [9 1]]\n"
     ]
    }
   ],
   "source": [
    "# Solution 6\n",
    "\n",
    "# Checking unique value and it's count.\n",
    "\n",
    "import numpy as np\n",
    "a = np.array([1,2,2,3,5,6,9,5,3,2,1])\n",
    "unique, counts = np.unique(a, return_counts=True)\n",
    "print(np.asarray((unique,counts)).T)"
   ]
  }
 ],
 "metadata": {
  "kernelspec": {
   "display_name": "Python 3",
   "language": "python",
   "name": "python3"
  },
  "language_info": {
   "codemirror_mode": {
    "name": "ipython",
    "version": 3
   },
   "file_extension": ".py",
   "mimetype": "text/x-python",
   "name": "python",
   "nbconvert_exporter": "python",
   "pygments_lexer": "ipython3",
   "version": "3.8.3"
  }
 },
 "nbformat": 4,
 "nbformat_minor": 4
}
